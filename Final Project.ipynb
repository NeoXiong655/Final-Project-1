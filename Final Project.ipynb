{
 "cells": [
  {
   "cell_type": "markdown",
   "metadata": {},
   "source": [
    "# Final Project:\n",
    "## The Best Neighborhood In Pittsburgh"
   ]
  },
  {
   "cell_type": "markdown",
   "metadata": {},
   "source": [
    "### Introduction\n",
    "In this lab, we are going to talk about the the \"best\" neighborhood in Pittsburgh. We are going to consider the convienence in the neighborhood, safety, and parking. We came up with these because the \"best\" neighborhood would be convenient to the citizens, be a safe place to live and have parking for the people who live there."
   ]
  },
  {
   "cell_type": "markdown",
   "metadata": {},
   "source": [
    "### The Metric\n",
    "* **Convenience:** \n",
    "* **Safety:**\n",
    "* **Environment**\n",
    "* **Traffic**\n",
    "    \n",
    "**Places:**\n",
    "   * Allegheny County\n",
    "   * City Of Pittsburgh\n",
    "   * Western Pennsylvania"
   ]
  },
  {
   "cell_type": "markdown",
   "metadata": {},
   "source": [
    "## Traffic\n",
    "*This table records the number of speed bumps for each neighborhood, the number of vehicles passing through the speed bumps, and the speed limit*\n",
    "*https://data.wprdc.org/dataset/traffic-count-data-city-of-pittsburgh*"
   ]
  },
  {
   "cell_type": "code",
   "execution_count": null,
   "metadata": {},
   "outputs": [],
   "source": [
    "import pandas as pd\n",
    "\n",
    "traffic = pd.read_csv(\"Traffic.csv\")\n",
    "traffic.head()"
   ]
  },
  {
   "cell_type": "code",
   "execution_count": null,
   "metadata": {},
   "outputs": [],
   "source": [
    "traffic['neighborhood'].value_counts()"
   ]
  },
  {
   "cell_type": "markdown",
   "metadata": {},
   "source": [
    "## Satety\n",
    "*This table is the number of firearms seized by Pittsburgh police in each neighborhood.\n",
    "https://data.wprdc.org/dataset/pbp-fire-arm-seizures*"
   ]
  },
  {
   "cell_type": "code",
   "execution_count": null,
   "metadata": {},
   "outputs": [],
   "source": [
    "firearm = pd.read_csv(\"firearm.csv\")\n",
    "firearm.head()"
   ]
  },
  {
   "cell_type": "code",
   "execution_count": null,
   "metadata": {},
   "outputs": [],
   "source": [
    "firearm['neighborhood'].value_counts()"
   ]
  },
  {
   "cell_type": "code",
   "execution_count": null,
   "metadata": {},
   "outputs": [],
   "source": [
    "df = pd.read_csv(r'firearm.csv',usecols=[10,1])\n",
    "df.to_csv('totalfirearm.csv')\n",
    "df"
   ]
  },
  {
   "cell_type": "code",
   "execution_count": null,
   "metadata": {},
   "outputs": [],
   "source": [
    "df.A.plot(kind='bar', title='Firearm')\n",
    "plt.show()"
   ]
  }
 ],
 "metadata": {
  "kernelspec": {
   "display_name": "Python 3",
   "language": "python",
   "name": "python3"
  },
  "language_info": {
   "codemirror_mode": {
    "name": "ipython",
    "version": 3
   },
   "file_extension": ".py",
   "mimetype": "text/x-python",
   "name": "python",
   "nbconvert_exporter": "python",
   "pygments_lexer": "ipython3",
   "version": "3.8.3"
  }
 },
 "nbformat": 4,
 "nbformat_minor": 4
}
